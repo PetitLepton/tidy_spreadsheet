{
 "cells": [
  {
   "cell_type": "markdown",
   "metadata": {
    "slideshow": {
     "slide_type": "slide"
    },
    "tags": [
     "show"
    ]
   },
   "source": [
    "# Tidying a spreadsheet with Python and pandas"
   ]
  },
  {
   "cell_type": "markdown",
   "metadata": {
    "slideshow": {
     "slide_type": "slide"
    }
   },
   "source": [
    "## Introduction"
   ]
  },
  {
   "cell_type": "markdown",
   "metadata": {},
   "source": [
    "The concept of tidy data comes from the R world (see [_Hadley Wickham - \"Tidy Data\"_](https://vita.had.co.nz/papers/tidy-data.pdf))."
   ]
  },
  {
   "cell_type": "markdown",
   "metadata": {},
   "source": [
    "Tidy data is a standard way of mapping the meaning of a dataset to its structure.  A dataset is messy or tidy depending on how rows, columns and tables are matched up with observations,variables and types.  In tidy data:\n",
    "\n",
    "1.  Each variable forms a column;\n",
    "2.  Each observation forms a row;\n",
    "3.  Each type of observational unit forms a table."
   ]
  },
  {
   "cell_type": "markdown",
   "metadata": {
    "slideshow": {
     "slide_type": "slide"
    }
   },
   "source": [
    "## Objective"
   ]
  },
  {
   "cell_type": "markdown",
   "metadata": {},
   "source": [
    "I am going to show how to go from a “messy”—in the above sense—Excel spreadsheet to a “tidy” table (and CSV file) using the folowing data set, [_Hannah Ritchie and Max Roser (2018) - \"Urbanization\", Published online at OurWorldInData.org._](https://ourworldindata.org/urbanization). In this notebook, I am going to build a dataset of the urban/rural populations per country, each country being characterized by its continent/region and “sub-continent/region.”"
   ]
  },
  {
   "cell_type": "markdown",
   "metadata": {
    "slideshow": {
     "slide_type": "slide"
    }
   },
   "source": [
    "## Excel and the pandas world"
   ]
  },
  {
   "cell_type": "markdown",
   "metadata": {
    "slideshow": {
     "slide_type": "slide"
    }
   },
   "source": [
    "This step will lead you to a whole new world."
   ]
  },
  {
   "cell_type": "code",
   "execution_count": null,
   "metadata": {
    "slideshow": {
     "slide_type": "-"
    },
    "tags": [
     "show"
    ]
   },
   "outputs": [],
   "source": [
    "import pandas as pd"
   ]
  },
  {
   "cell_type": "markdown",
   "metadata": {},
   "source": [
    "`pandas` offers a method to extract data from a spreadsheet directly from a site without downloading the file itself."
   ]
  },
  {
   "cell_type": "code",
   "execution_count": null,
   "metadata": {
    "slideshow": {
     "slide_type": "slide"
    }
   },
   "outputs": [],
   "source": [
    "root_url = \"https://population.un.org/wup/Download/Files/\"\n",
    "urban_rural_populations_url = root_url + \"WUP2018-F01-Total_Urban_Rural.xls\"\n",
    "urban_rural_populations_raw = pd.read_excel(io=urban_rural_populations_url)"
   ]
  },
  {
   "cell_type": "markdown",
   "metadata": {
    "slideshow": {
     "slide_type": "-"
    }
   },
   "source": [
    "Let's take a look at the first lines to have a sense of the content."
   ]
  },
  {
   "cell_type": "code",
   "execution_count": null,
   "metadata": {
    "scrolled": true,
    "slideshow": {
     "slide_type": "-"
    }
   },
   "outputs": [],
   "source": [
    "urban_rural_populations_raw.info()\n",
    "display(urban_rural_populations_raw.head(n=20))\n",
    "display(urban_rural_populations_raw.tail(n=20))"
   ]
  },
  {
   "cell_type": "markdown",
   "metadata": {},
   "source": [
    "The first 15 lines are the headers of the Excel sheet, the 15th seems to contain the headers of the columns. We are going to move this row as the columns headers and keep only the relevant part of the table."
   ]
  },
  {
   "cell_type": "code",
   "execution_count": null,
   "metadata": {},
   "outputs": [],
   "source": [
    "urban_rural_populations = urban_rural_populations_raw[16:].copy()\n",
    "urban_rural_populations.columns = (\n",
    "    urban_rural_populations_raw.loc[15]\n",
    "    .str.replace(', |\\n| ', '_')\n",
    "#     .str.replace(',', '')\n",
    "#     .str.replace(' ', '_')\n",
    "#     .str.replace('\\n', '_')\n",
    "    .str.lower()\n",
    "    .tolist()\n",
    ")\n",
    "print(urban_rural_populations_raw.loc[15].tolist())\n",
    "print(urban_rural_populations.columns.tolist())"
   ]
  },
  {
   "cell_type": "markdown",
   "metadata": {},
   "source": [
    "We could keep the percentage of urban population here but for the sake of the demonstration, we are dropping it and will recompute it later."
   ]
  },
  {
   "cell_type": "code",
   "execution_count": null,
   "metadata": {},
   "outputs": [],
   "source": [
    "urban_rural_populations.drop(labels=['index', 'note', 'total', 'percentage_urban'], axis='columns', inplace=True)"
   ]
  },
  {
   "cell_type": "markdown",
   "metadata": {},
   "source": [
    "The table looks a little bit cleaner–it does not have missing values, for example–but we are still missing the proper types for the columns. Indeed, the urban and rural populations have a type object while they are \"people\", therefore integers."
   ]
  },
  {
   "cell_type": "code",
   "execution_count": null,
   "metadata": {},
   "outputs": [],
   "source": [
    "display(urban_rural_populations.info())\n",
    "display(urban_rural_populations.head())"
   ]
  },
  {
   "cell_type": "code",
   "execution_count": null,
   "metadata": {},
   "outputs": [],
   "source": [
    "urban_rural_populations[\"country_code\"] = urban_rural_populations[\"country_code\"].astype(int)\n",
    "\n",
    "for column in [\"urban\", \"rural\"]:\n",
    "    urban_rural_populations[column] = urban_rural_populations[column].astype(int) * 1000"
   ]
  },
  {
   "cell_type": "code",
   "execution_count": null,
   "metadata": {},
   "outputs": [],
   "source": [
    "display(urban_rural_populations.info())\n",
    "display(urban_rural_populations.head(n=20))"
   ]
  },
  {
   "cell_type": "markdown",
   "metadata": {},
   "source": [
    "From the structure of the table above, it seems that the country codes around 900 play a different role. After all, the column is called “region, subregion, country or area.” We can take a look at the content to help us in redesigning the table in a different way.\n",
    "> We could also open the spreadsheet in a proper tool like LibreOffice, Excel or Google Sheets. But that is a bit less fun."
   ]
  },
  {
   "cell_type": "code",
   "execution_count": null,
   "metadata": {},
   "outputs": [],
   "source": [
    "# Here, I make use of the .pipe() operator as an introduction for chaining methods. Chaining\n",
    "# is a slightly different way–closer to functional programming–to apply operators to objects.\n",
    "# If you are interested, you can take a look at https://tomaugspurger.github.io/method-chaining\n",
    "(\n",
    "    urban_rural_populations\n",
    "    .query(\"country_code >= 900\")\n",
    "    .loc[:, ['region_subregion_country_or_area', 'country_code']]\n",
    "    .pipe(display)\n",
    ")"
   ]
  },
  {
   "cell_type": "code",
   "execution_count": null,
   "metadata": {},
   "outputs": [],
   "source": [
    "regions = ['AFRICA', 'ASIA', 'EUROPE', 'LATIN AMERICA AND THE CARIBBEAN', 'NORTHERN AMERICA', 'OCEANIA']\n",
    "\n",
    "regions_and_sub_regions = (\n",
    "    urban_rural_populations.query(\"country_code >= 900\")\n",
    "    .loc[:, \"region_subregion_country_or_area\"]\n",
    "    .tolist()\n",
    ")\n",
    "\n",
    "# Notice the usage of sets here. It is a nice way to remove elements from an existing list\n",
    "sub_regions = list(set(regions_and_sub_regions) - set(regions))\n",
    "print(sub_regions)"
   ]
  },
  {
   "cell_type": "markdown",
   "metadata": {},
   "source": [
    "The last part of the table corresponds to the regions and sub-regions as defined by the [United Nations](https://en.wikipedia.org/wiki/United_Nations_geoscheme). The country code is the norm [ISO-3166-1](https://en.wikipedia.org/wiki/ISO_3166-1_numeric). The spreadsheet is not built in a way which allows a region or a sub-region to be easily assigned to a given country, it is built like a drop-down list. We are going to change that in order to ensure a one-to-many mapping between regions/sub-regions on one side and countries on the other.\n",
    "\n",
    "\n",
    "We are fully making use here of the fact that the spreadsheet is built with the following structure (region 1 → sub-region 1 → country 1 → country 2 → sub-region 2 → country 1 → country 2 → region 2 ...)"
   ]
  },
  {
   "cell_type": "code",
   "execution_count": null,
   "metadata": {},
   "outputs": [],
   "source": [
    "urban_rural_populations[\"region\"] = None\n",
    "urban_rural_populations.loc[\n",
    "    urban_rural_populations[\"region_subregion_country_or_area\"].isin(regions),\n",
    "    \"region\"\n",
    "] = urban_rural_populations[\"region_subregion_country_or_area\"]\n",
    "\n",
    "urban_rural_populations['sub_region'] = None\n",
    "urban_rural_populations.loc[\n",
    "    urban_rural_populations[\"region_subregion_country_or_area\"].isin(sub_regions),\n",
    "    \"sub_region\"\n",
    "] = urban_rural_populations[\"region_subregion_country_or_area\"]\n",
    "\n",
    "print(\"Before the filling of missing values\")\n",
    "display(urban_rural_populations.head(n=20))\n",
    "print(\"After the filling of missing values\")\n",
    "urban_rural_populations.fillna(method='ffill', inplace=True)\n",
    "display(urban_rural_populations.head(n=20))"
   ]
  },
  {
   "cell_type": "markdown",
   "metadata": {},
   "source": [
    "Let's check the sub-regions."
   ]
  },
  {
   "cell_type": "code",
   "execution_count": null,
   "metadata": {},
   "outputs": [],
   "source": [
    "(\n",
    "    urban_rural_populations\n",
    "    .query(\"region_subregion_country_or_area in @sub_regions\")\n",
    "    .loc[:, [\"region_subregion_country_or_area\", \"region\", \"sub_region\"]]\n",
    "    .sort_values(by=\"region\")\n",
    ")"
   ]
  },
  {
   "cell_type": "markdown",
   "metadata": {},
   "source": [
    "Wait a second, that's not right. Where are the United States, Canada and so on?"
   ]
  },
  {
   "cell_type": "code",
   "execution_count": null,
   "metadata": {},
   "outputs": [],
   "source": [
    "urban_rural_populations.loc[urban_rural_populations.region == 'NORTHERN AMERICA'].pipe(display)"
   ]
  },
  {
   "cell_type": "code",
   "execution_count": null,
   "metadata": {},
   "outputs": [],
   "source": [
    "urban_rural_populations.loc[230:260]"
   ]
  },
  {
   "cell_type": "markdown",
   "metadata": {},
   "source": [
    "As shown from the table above, Northern America does not have sub regions. When we forward fill the missing values, the algorithm uses the previous non-null record which turns out to be South America. Let's correct that!"
   ]
  },
  {
   "cell_type": "code",
   "execution_count": null,
   "metadata": {},
   "outputs": [],
   "source": [
    "urban_rural_populations.loc[urban_rural_populations.region == 'NORTHERN AMERICA', 'sub_region'] = 'Northern America'"
   ]
  },
  {
   "cell_type": "code",
   "execution_count": null,
   "metadata": {},
   "outputs": [],
   "source": [
    "all_subregions = (\n",
    "    urban_rural_populations\n",
    "    .loc[~urban_rural_populations[\"region_subregion_country_or_area\"].isin(regions)]\n",
    "    .loc[~urban_rural_populations[\"region_subregion_country_or_area\"].str.match('.*(countries|Less|More)')]\n",
    "    .groupby(by=\"region\")\n",
    "    .agg({\"sub_region\": \"unique\"})\n",
    ")\n",
    "\n",
    "for region, sub_regions in all_subregions.iterrows():\n",
    "    print(f\"{region}: {', '.join(sub_regions.array[0])}\\n\")"
   ]
  },
  {
   "cell_type": "markdown",
   "metadata": {},
   "source": [
    "We can now create a table dedicated to countries themselves as they are going to be the atomic unit for the analysis."
   ]
  },
  {
   "cell_type": "code",
   "execution_count": null,
   "metadata": {},
   "outputs": [],
   "source": [
    "countries_urban_rural_populations = (\n",
    "    urban_rural_populations\n",
    "    .query(\"country_code < 900\")\n",
    "    .rename(columns=dict(region_subregion_country_or_area=\"country\"))\n",
    "    .set_index(keys=[\"country\"])\n",
    ")\n",
    "\n",
    "countries_urban_rural_populations.head(n=10).append(countries_urban_rural_populations.tail(n=10))"
   ]
  },
  {
   "cell_type": "markdown",
   "metadata": {},
   "source": [
    "We can check that we did not make any mistake during the cleaning process by comparing the total per region from our aggregated values and the ones provided by the genuine data themselves."
   ]
  },
  {
   "cell_type": "code",
   "execution_count": null,
   "metadata": {},
   "outputs": [],
   "source": [
    "df_r = countries_urban_rural_populations.groupby(by='region').agg(dict(urban='sum', rural='sum'))\n",
    "\n",
    "df_rg = urban_rural_populations[\n",
    "    urban_rural_populations.region_subregion_country_or_area.isin(regions)\n",
    "][['urban', 'rural', 'region_subregion_country_or_area']].set_index('region_subregion_country_or_area')\n",
    "\n",
    "df_r.join(df_rg, rsuffix='_g').pipe(display)"
   ]
  },
  {
   "cell_type": "markdown",
   "metadata": {},
   "source": [
    "## Do we have tidy data?"
   ]
  },
  {
   "cell_type": "markdown",
   "metadata": {
    "tags": [
     "show"
    ]
   },
   "source": [
    "Countries are grouped by region/continent as well as sub-regions. The following table is an extract for the sub-region South-Eastern Asia. It follows the Tidy Data principles:\n",
    "- each variable forms a column;\n",
    "- each observation forms a row;\n",
    "- each type of observational unit forms a table."
   ]
  },
  {
   "cell_type": "code",
   "execution_count": null,
   "metadata": {},
   "outputs": [],
   "source": [
    "countries_urban_rural_populations.head()"
   ]
  },
  {
   "cell_type": "markdown",
   "metadata": {},
   "source": [
    "Not exactly..."
   ]
  },
  {
   "cell_type": "code",
   "execution_count": null,
   "metadata": {},
   "outputs": [],
   "source": [
    "tidy_countries_urban_rural_populations = (\n",
    "    pd.melt(\n",
    "        countries_urban_rural_populations.reset_index(),\n",
    "        id_vars=[\"country\", \"region\", \"sub_region\"],\n",
    "        # Bring the populations into two columns by type\n",
    "        # and numbers\n",
    "        value_vars=[\"urban\", \"rural\"],\n",
    "        var_name=\"population_type\",\n",
    "        value_name=\"population\")\n",
    "    # Put all the area columns with the same convention\n",
    "    .assign(\n",
    "        country=lambda df: df[\"country\"].str.title(),\n",
    "        sub_region=lambda df: df[\"sub_region\"].str.title(),\n",
    "        region=lambda df: df[\"region\"].str.title())\n",
    "    .sort_values(by=[\"country\", \"population_type\"])\n",
    "    .reset_index(drop=True)\n",
    ")\n",
    "\n",
    "tidy_countries_urban_rural_populations.head()"
   ]
  },
  {
   "cell_type": "markdown",
   "metadata": {},
   "source": [
    "## Is it easy to analyse?"
   ]
  },
  {
   "cell_type": "markdown",
   "metadata": {},
   "source": [
    "Here are two examples of calculations of rural VS urban populations."
   ]
  },
  {
   "cell_type": "code",
   "execution_count": null,
   "metadata": {},
   "outputs": [],
   "source": [
    "(\n",
    "    tidy_countries_urban_rural_populations\n",
    "    .pivot_table(index=\"region\", columns=[\"population_type\"], values=[\"population\"], aggfunc=\"sum\")\n",
    "    .droplevel(level=0, axis=\"columns\")\n",
    "    .assign(\n",
    "        percentage_rural=lambda df: 100. * df[\"rural\"] / (df[\"rural\"] + df[\"urban\"]))\n",
    "    .sort_values(by=\"percentage_rural\")\n",
    "    # Format nicely the table\n",
    "    .assign(\n",
    "        urban=lambda df: df[\"urban\"].map(\"{:,}\".format),\n",
    "        rural=lambda df: df[\"rural\"].map(\"{:,}\".format),\n",
    "        percentage_rural=lambda df: df[\"percentage_rural\"].map(\"{:3.1f}%\".format))\n",
    "    .rename_axis(mapper=\"\", axis=\"rows\")\n",
    "    .rename_axis(mapper=\"\", axis=\"columns\")\n",
    "    .rename(columns={\"rural\": \"Rural population\", \"urban\": \"Urban population\", \"percentage_rural\": \"Percentage of<br>rural population\"})\n",
    "    .style.set_table_styles(\n",
    "        [\n",
    "            {\"selector\": \"th.row_heading\", \"props\": [(\"text-align\", \"left\")]},\n",
    "            {\"selector\": \"th.col_heading\", \"props\": [(\"text-align\", \"left\")]},\n",
    "        ]\n",
    "    )\n",
    ")"
   ]
  },
  {
   "cell_type": "code",
   "execution_count": null,
   "metadata": {},
   "outputs": [],
   "source": [
    "(\n",
    "    tidy_countries_urban_rural_populations\n",
    "    .query(\"sub_region == 'South-Eastern Asia'\")\n",
    "    .pivot_table(index=\"country\", columns=[\"population_type\"], values=[\"population\"])\n",
    "    .droplevel(level=0, axis=\"columns\")\n",
    "    .assign(\n",
    "        percentage_rural=lambda df: 100. * df[\"rural\"] / (df[\"rural\"] + df[\"urban\"]))\n",
    "    .sort_values(by=\"percentage_rural\")\n",
    "    # Format nicely the table\n",
    "    .assign(\n",
    "        urban=lambda df: df[\"urban\"].map(\"{:,}\".format),\n",
    "        rural=lambda df: df[\"rural\"].map(\"{:,}\".format),\n",
    "        percentage_rural=lambda df: df[\"percentage_rural\"].map(\"{:3.1f}%\".format))\n",
    "    .rename_axis(mapper=\"\", axis=\"rows\")\n",
    "    .rename_axis(mapper=\"\", axis=\"columns\")\n",
    "    .rename(columns={\"rural\": \"Rural population\", \"urban\": \"Urban population\", \"percentage_rural\": \"Percentage of<br>rural poulation\"})\n",
    "    .style.set_table_styles(\n",
    "        [\n",
    "            {\"selector\": \"th.row_heading\", \"props\": [(\"text-align\", \"left\")]},\n",
    "            {\"selector\": \"th.col_heading\", \"props\": [(\"text-align\", \"left\")]},\n",
    "        ]\n",
    "    )\n",
    ")"
   ]
  },
  {
   "cell_type": "markdown",
   "metadata": {},
   "source": [
    "## Tidy data, cardinality and memory usage "
   ]
  },
  {
   "cell_type": "markdown",
   "metadata": {},
   "source": [
    "As you can see below, because of the particular structure of the tidy format—repeating the same elements many times—, the memory storage is definitely not optimal. "
   ]
  },
  {
   "cell_type": "code",
   "execution_count": null,
   "metadata": {},
   "outputs": [],
   "source": [
    "display(\n",
    "    tidy_countries_urban_rural_populations\n",
    "    .apply(\"nunique\")\n",
    "    .rename(\"Number of unique values\")\n",
    "    .to_frame()\n",
    ")\n",
    "\n",
    "display(\n",
    "    tidy_countries_urban_rural_populations\n",
    "    .memory_usage(deep=True)\n",
    "    .rename(\"Memory usage in Bytes\")\n",
    "    .to_frame()\n",
    ")"
   ]
  },
  {
   "cell_type": "markdown",
   "metadata": {},
   "source": [
    "We can nevertheless do much better in terms of memory management by leveraging `pandas` categorical type."
   ]
  },
  {
   "cell_type": "code",
   "execution_count": null,
   "metadata": {},
   "outputs": [],
   "source": [
    "(\n",
    "    tidy_countries_urban_rural_populations\n",
    "    .memory_usage(deep=True)\n",
    "    .rename(\"Memory usage in Bytes\")\n",
    "    .to_frame()\n",
    "    .join(\n",
    "    tidy_countries_urban_rural_populations\n",
    "        .assign(\n",
    "            region=lambda df: df[\"region\"].astype(\"category\"),\n",
    "            sub_region=lambda df: df[\"sub_region\"].astype(\"category\"),\n",
    "            population_type=lambda df: df[\"population_type\"].astype(\"category\"))\n",
    "        .memory_usage(deep=True)\n",
    "        .rename(\"Memory usage in Bytes with categorical data\")\n",
    "        .to_frame()\n",
    "    )\n",
    ")"
   ]
  },
  {
   "cell_type": "code",
   "execution_count": null,
   "metadata": {},
   "outputs": [],
   "source": [
    "population_type_mapper = { population_type: n for n, population_type in enumerate(tidy_countries_urban_rural_populations[\"population_type\"].unique())}"
   ]
  },
  {
   "cell_type": "code",
   "execution_count": null,
   "metadata": {},
   "outputs": [],
   "source": [
    "(\n",
    "    tidy_countries_urban_rural_populations\n",
    "    .assign(population_type=lambda df: df[\"population_type\"].map(population_type_mapper).astype(\"int8\"))\n",
    "    .head()\n",
    "#     .memory_usage(deep=True)\n",
    "#     .rename(\"Memory usage in Bytes with integer mapping\")\n",
    "#     .to_frame()\n",
    ")"
   ]
  },
  {
   "cell_type": "markdown",
   "metadata": {},
   "source": [
    "## A note on reproducibility"
   ]
  },
  {
   "cell_type": "markdown",
   "metadata": {},
   "source": [
    "If you clean the data manually from the original Excel sheet, your friend, colleague or the community would never know the steps taken. Here you can literally read and reproduce the whole process as long as the original spreadsheet is the same.\n",
    "\n",
    "This argument was also developed by Chris Moffit in the podcast [Talk Python To me](https://talkpython.fm/episodes/show/200/escaping-excel-hell-with-python-and-pandas)."
   ]
  },
  {
   "cell_type": "markdown",
   "metadata": {},
   "source": [
    "## References"
   ]
  },
  {
   "cell_type": "markdown",
   "metadata": {},
   "source": [
    "[Tidy Data by Hadley Wickham](https://vita.had.co.nz/papers/tidy-data.pdf)\n",
    "\n",
    "[Modern Pandas (Part 5): Tidy Data](https://tomaugspurger.github.io/modern-5-tidy.html)\n",
    "\n",
    "[Tidy Data in Python course on Datacamp](https://github.com/datacamp/courses-tidy-data-in-python/blob/master/chapter1.md)\n",
    "\n",
    "[Tidy Data in Python by Jean-Nicolas Hould](http://www.jeannicholashould.com/tidy-data-in-python.html)\n",
    "\n",
    "[pyjanitor package by Eric Ma](https://pyjanitor.readthedocs.io/)\n",
    "\n",
    "and more..."
   ]
  },
  {
   "cell_type": "markdown",
   "metadata": {},
   "source": [
    "## Annex: another example"
   ]
  },
  {
   "cell_type": "code",
   "execution_count": null,
   "metadata": {},
   "outputs": [],
   "source": [
    "urban_populations_by_year_URL = root_url + 'WUP2018-F19-Urban_Population_Annual.xls'"
   ]
  },
  {
   "cell_type": "code",
   "execution_count": null,
   "metadata": {},
   "outputs": [],
   "source": [
    "urban_populations_by_year_raw = pd.read_excel(io=urban_populations_by_year_URL)"
   ]
  },
  {
   "cell_type": "code",
   "execution_count": null,
   "metadata": {},
   "outputs": [],
   "source": [
    "urban_populations_by_year_raw.head(n=20)"
   ]
  },
  {
   "cell_type": "code",
   "execution_count": null,
   "metadata": {},
   "outputs": [],
   "source": [
    "def clean_string(dirty_string):\n",
    "    return (\n",
    "        str(dirty_string)\n",
    "        .replace(\",\", \"\")\n",
    "        .replace(\" \", \"_\")  # It is also possible to use a regular expression here .replace('\\n| ', '_')\n",
    "        .replace(\"\\n\", \"_\")\n",
    "        .lower()\n",
    "    )"
   ]
  },
  {
   "cell_type": "code",
   "execution_count": null,
   "metadata": {},
   "outputs": [],
   "source": [
    "urban_populations_by_year = urban_populations_by_year_raw.loc[16:]\n",
    "urban_populations_by_year.columns = [clean_string(bare_column) for bare_column in urban_populations_by_year_raw.loc[15, :].tolist()]\n",
    "\n",
    "years = [column for column in urban_populations_by_year.columns if column.replace(\".\", \"\").isdigit()]\n",
    "\n",
    "tidy_urban_populations_by_year = (\n",
    "    pd.melt(\n",
    "        urban_populations_by_year,\n",
    "        id_vars=[\"region_subregion_country_or_area\"],\n",
    "        value_vars=years,\n",
    "        var_name=\"year\",\n",
    "        value_name=\"population\")\n",
    "    .assign(\n",
    "        year=lambda df: df[\"year\"].astype(float).astype(int),\n",
    "        population=lambda df: df[\"population\"].astype(float).astype(int) * 1000)\n",
    "    \n",
    ")"
   ]
  },
  {
   "cell_type": "code",
   "execution_count": null,
   "metadata": {},
   "outputs": [],
   "source": [
    "countries = tidy_countries_urban_rural_populations[\"country\"].unique()\n",
    "\n",
    "tidy_countries_urban_rural_populations_urban_population_by_year = (\n",
    "    tidy_urban_populations_by_year\n",
    "    .query(\"region_subregion_country_or_area in @countries\")\n",
    "    .rename(mapper={\"region_subregion_country_or_area\": \"country\"}, axis=\"columns\")\n",
    "    .reset_index(drop=True)\n",
    ")"
   ]
  },
  {
   "cell_type": "code",
   "execution_count": null,
   "metadata": {},
   "outputs": [],
   "source": [
    "tidy_countries_urban_rural_populations_urban_population_by_year.head()"
   ]
  },
  {
   "cell_type": "code",
   "execution_count": null,
   "metadata": {},
   "outputs": [],
   "source": [
    "tidy_countries_urban_rural_populations_urban_population_by_year.query(\"country == 'Malaysia'\")"
   ]
  },
  {
   "cell_type": "code",
   "execution_count": null,
   "metadata": {},
   "outputs": [],
   "source": []
  }
 ],
 "metadata": {
  "kernelspec": {
   "display_name": "Python 3",
   "language": "python",
   "name": "python3"
  },
  "language_info": {
   "codemirror_mode": {
    "name": "ipython",
    "version": 3
   },
   "file_extension": ".py",
   "mimetype": "text/x-python",
   "name": "python",
   "nbconvert_exporter": "python",
   "pygments_lexer": "ipython3",
   "version": "3.7.3"
  },
  "title": "Flavien"
 },
 "nbformat": 4,
 "nbformat_minor": 2
}
